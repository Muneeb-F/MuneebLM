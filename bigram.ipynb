{
 "cells": [
  {
   "cell_type": "code",
   "execution_count": 3,
   "metadata": {},
   "outputs": [
    {
     "name": "stdout",
     "output_type": "stream",
     "text": [
      "cuda\n"
     ]
    }
   ],
   "source": [
    "import torch\n",
    "import torch.nn as nn\n",
    "from torch.nn import functional as F\n",
    "device = 'cuda' if torch.cuda.is_available() else 'cpu'\n",
    "print(device)\n",
    "block_size = 8\n",
    "batch_size = 4\n",
    "max_iters = 1000\n",
    "# eval_interval = 2500\n",
    "learning_rate = 3e-4\n",
    "eval_iters = 250\n",
    "device = 'cuda' if torch.cuda.is_available() else 'cpu'"
   ]
  },
  {
   "cell_type": "code",
   "execution_count": 4,
   "metadata": {},
   "outputs": [
    {
     "name": "stdout",
     "output_type": "stream",
     "text": [
      "['\\n', ' ', '!', '&', '(', ')', '*', ',', '-', '.', '0', '1', '9', ':', ';', '?', 'A', 'B', 'C', 'D', 'E', 'F', 'G', 'H', 'I', 'J', 'K', 'L', 'M', 'N', 'O', 'P', 'Q', 'R', 'S', 'T', 'U', 'V', 'W', 'X', 'Y', 'Z', '[', ']', 'a', 'b', 'c', 'd', 'e', 'f', 'g', 'h', 'i', 'j', 'k', 'l', 'm', 'n', 'o', 'p', 'q', 'r', 's', 't', 'u', 'v', 'w', 'x', 'y', 'z', '—', '‘', '’', '“', '”', '\\ufeff']\n"
     ]
    }
   ],
   "source": [
    "with open('wizard_of_oz.txt', 'r', encoding='utf-8') as f:\n",
    "    text = f.read()\n",
    "chars = sorted(set(text))\n",
    "print(chars)\n",
    "vocab_size = len(chars)"
   ]
  },
  {
   "cell_type": "code",
   "execution_count": 5,
   "metadata": {},
   "outputs": [
    {
     "name": "stdout",
     "output_type": "stream",
     "text": [
      "tensor([75,  6,  6,  6,  1, 34, 35, 16, 33, 35,  1, 30, 21,  1, 35, 23, 20,  1,\n",
      "        31, 33, 30, 25, 20, 18, 35,  1, 22, 36, 35, 20, 29, 17, 20, 33, 22,  1,\n",
      "        20, 17, 30, 30, 26,  1, 35, 23, 20,  1, 38, 30, 29, 19, 20, 33, 21, 36,\n",
      "        27,  1, 38, 24, 41, 16, 33, 19,  1, 30, 21,  1, 30, 41,  1,  6,  6,  6,\n",
      "         0,  0, 42, 24, 55, 55, 64, 62, 63, 61, 44, 63, 52, 58, 57, 43,  0,  0,\n",
      "         0,  0,  0, 35, 51, 48,  1, 38, 58, 57])\n"
     ]
    }
   ],
   "source": [
    "# making initial encoder and decoders \n",
    "string_to_int = { ch:i for i,ch in enumerate(chars) }\n",
    "int_to_string = { i:ch for i,ch in enumerate(chars) }\n",
    "encode = lambda s: [string_to_int[c] for c in s]\n",
    "decode = lambda l: ''.join(int_to_string[i] for i in l)\n",
    "\n",
    "data = torch.tensor(encode(text), dtype=torch.long)\n",
    "print(data[:100])"
   ]
  },
  {
   "cell_type": "code",
   "execution_count": 6,
   "metadata": {},
   "outputs": [
    {
     "name": "stdout",
     "output_type": "stream",
     "text": [
      "inputs:\n",
      "tensor([[68,  1, 55, 52, 49, 63, 48, 47],\n",
      "        [35, 51, 52, 62,  1, 56, 44, 47],\n",
      "        [56, 68,  1, 59, 61, 58, 56, 52],\n",
      "        [50,  1, 44, 63,  1, 56, 48,  1]], device='cuda:0')\n",
      "targets:\n",
      "tensor([[ 1, 55, 52, 49, 63, 48, 47,  1],\n",
      "        [51, 52, 62,  1, 56, 44, 47, 48],\n",
      "        [68,  1, 59, 61, 58, 56, 52, 62],\n",
      "        [ 1, 44, 63,  1, 56, 48,  1, 46]], device='cuda:0')\n"
     ]
    }
   ],
   "source": [
    "# train and test splits\n",
    "n = int(0.8*len(data))\n",
    "train_data = data[:n]\n",
    "val_data = data[n:]\n",
    "\n",
    "def get_batch(split):\n",
    "    data = train_data if split == 'train' else val_data\n",
    "    ix = torch.randint(len(data) - block_size, (batch_size,))\n",
    "    x = torch.stack([data[i:i+block_size] for i in ix])\n",
    "    y = torch.stack([data[i+1:i+block_size+1] for i in ix])\n",
    "    x, y = x.to(device), y.to(device)\n",
    "    return x, y\n",
    "\n",
    "x, y = get_batch('train')\n",
    "print('inputs:')\n",
    "# print(x.shape)\n",
    "print(x)\n",
    "print('targets:')\n",
    "print(y)\n"
   ]
  },
  {
   "cell_type": "code",
   "execution_count": 7,
   "metadata": {},
   "outputs": [
    {
     "name": "stdout",
     "output_type": "stream",
     "text": [
      "when input is tensor([75]) target is tensor(6)\n",
      "when input is tensor([75,  6]) target is tensor(6)\n",
      "when input is tensor([75,  6,  6]) target is tensor(6)\n",
      "when input is tensor([75,  6,  6,  6]) target is tensor(1)\n",
      "when input is tensor([75,  6,  6,  6,  1]) target is tensor(34)\n",
      "when input is tensor([75,  6,  6,  6,  1, 34]) target is tensor(35)\n",
      "when input is tensor([75,  6,  6,  6,  1, 34, 35]) target is tensor(16)\n",
      "when input is tensor([75,  6,  6,  6,  1, 34, 35, 16]) target is tensor(33)\n"
     ]
    }
   ],
   "source": [
    "# initial predictor\n",
    "# size of each block\n",
    "block_size = 8\n",
    "\n",
    "# number of blocks we can train on simultanesouly\n",
    "batch_size = 8\n",
    "\n",
    "x = train_data[:block_size]\n",
    "y = train_data[1:block_size+1]\n",
    "\n",
    "for t in range(block_size):\n",
    "    context = x[:t+1]\n",
    "    target = y[t]\n",
    "    print(\"when input is\", context, \"target is\", target)"
   ]
  },
  {
   "cell_type": "code",
   "execution_count": 8,
   "metadata": {},
   "outputs": [],
   "source": [
    "\n",
    "@torch.no_grad()\n",
    "def estimate_loss():\n",
    "    out = {}\n",
    "    model.eval()\n",
    "    for split in ['train', 'val']:\n",
    "        losses = torch.zeros(eval_iters)\n",
    "        for k in range(eval_iters):\n",
    "            X, Y = get_batch(split)\n",
    "            logits, loss = model(X, Y)\n",
    "            losses[k] = loss.item()\n",
    "        out[split] = losses.mean()\n",
    "    model.train()\n",
    "    return out"
   ]
  },
  {
   "cell_type": "code",
   "execution_count": 9,
   "metadata": {},
   "outputs": [
    {
     "name": "stdout",
     "output_type": "stream",
     "text": [
      "\n",
      "P-l—r.E’ nC‘Pkf:9nNl, (P,MRr?f]eAZntx9Y)* qhwqdv9V(:ajY]er&fIcaitX—’qMx9”k  Xx”Qp?:?PY]er Fy\n",
      "gS*jfwIIqLCkoLN-﻿KRMw[CHtp)v—r,H, jxiy“cpPN\n",
      "]d&’m.hylDg.1vsGG:C:O—FZgSBN)91“C1N-vSXNIU\n",
      "p?NHn\n",
      "uASCkOneO’seAvsy“0!dEvi“ ARpQ﻿“Z[—)9-Xl;cx”q’YY’h“o[NO)EkI‘!ZlWCvbARY‘“oMt!’ykq:Qo0g\n",
      "yOz,‘J﻿9-e*OTFKKj—rbST9Pydsa]BfU\n",
      "E.(o’0kPJH)x”UxmL”-WrfdvAX—vuf:.ZP1NevKh”I(qfY0﻿*ruAT‘d!&Jm?-b(WfDFP-ARa,[&OPZ‘I9K’jzaPrLT,0A0﻿PeA0wG“”zzKt;X0OzDb)X!wGpXIGHu0;‘!z-‘D]IB::H—X’LAK[(‘GLQq””PuF﻿CC﻿”kE—- -*v—JwGnnlFykHz,G0O“v)hOspQt!\n"
     ]
    }
   ],
   "source": [
    "class BigramLanguageModel(nn.Module):\n",
    "    def __init__(self, vocab_size):\n",
    "        super().__init__()\n",
    "        self.token_embedding_table = nn.Embedding(vocab_size, vocab_size)\n",
    "        \n",
    "    def forward(self, index, targets=None):\n",
    "        logits = self.token_embedding_table(index)\n",
    "        \n",
    "        \n",
    "        if targets is None:\n",
    "            loss = None\n",
    "        else:\n",
    "            B, T, C = logits.shape\n",
    "            logits = logits.view(B*T, C)\n",
    "            targets = targets.view(B*T)\n",
    "            loss = F.cross_entropy(logits, targets)\n",
    "        \n",
    "        return logits, loss\n",
    "    \n",
    "    def generate(self, index, max_new_tokens):\n",
    "        # index is (B, T) array of indices in the current context\n",
    "        for _ in range(max_new_tokens):\n",
    "            # get the predictions\n",
    "            logits, loss = self.forward(index)\n",
    "            # focus only on the last time step\n",
    "            logits = logits[:, -1, :] # becomes (B, C)\n",
    "            # apply softmax to get probabilities\n",
    "            probs = F.softmax(logits, dim=-1) # (B, C)\n",
    "            # sample from the distribution\n",
    "            index_next = torch.multinomial(probs, num_samples=1) # (B, 1)\n",
    "            # append sampled index to the running sequence\n",
    "            index = torch.cat((index, index_next), dim=1) # (B, T+1)\n",
    "        return index\n",
    "\n",
    "model = BigramLanguageModel(vocab_size)\n",
    "m = model.to(device)\n",
    "\n",
    "context = torch.zeros((1,1), dtype=torch.long, device=device)\n",
    "generated_chars = decode(m.generate(context, max_new_tokens=500)[0].tolist())\n",
    "print(generated_chars)"
   ]
  },
  {
   "cell_type": "code",
   "execution_count": null,
   "metadata": {},
   "outputs": [
    {
     "name": "stdout",
     "output_type": "stream",
     "text": [
      "step: 0, train loss: 4.811, val loss: 4.830\n",
      "step: 250, train loss: 4.727, val loss: 4.742\n",
      "step: 500, train loss: 4.669, val loss: 4.675\n"
     ]
    }
   ],
   "source": [
    "\n",
    "# create a PyTorch optimizer\n",
    "optimizer = torch.optim.AdamW(model.parameters(), lr=learning_rate)\n",
    "\n",
    "for iter in range(max_iters):\n",
    "    if iter % eval_iters == 0:\n",
    "        losses = estimate_loss()\n",
    "        print(f\"step: {iter}, train loss: {losses['train']:.3f}, val loss: {losses['val']:.3f}\")\n",
    "\n",
    "    # sample a batch of data\n",
    "    xb, yb = get_batch('train')\n",
    "\n",
    "    # evaluate the loss\n",
    "    logits, loss = model.forward(xb, yb)\n",
    "    optimizer.zero_grad(set_to_none=True)\n",
    "    loss.backward()\n",
    "    optimizer.step()\n",
    "print(loss.item())"
   ]
  },
  {
   "cell_type": "code",
   "execution_count": null,
   "metadata": {},
   "outputs": [],
   "source": [
    "\n",
    "context = torch.zeros((1,1), dtype=torch.long, device=device)\n",
    "generated_chars = decode(m.generate(context, max_new_tokens=500)[0].tolist())\n",
    "print(generated_chars)"
   ]
  },
  {
   "cell_type": "code",
   "execution_count": null,
   "metadata": {},
   "outputs": [],
   "source": []
  }
 ],
 "metadata": {
  "kernelspec": {
   "display_name": "cuda-gpt",
   "language": "python",
   "name": "cuda"
  },
  "language_info": {
   "codemirror_mode": {
    "name": "ipython",
    "version": 3
   },
   "file_extension": ".py",
   "mimetype": "text/x-python",
   "name": "python",
   "nbconvert_exporter": "python",
   "pygments_lexer": "ipython3",
   "version": "3.11.7"
  }
 },
 "nbformat": 4,
 "nbformat_minor": 4
}
